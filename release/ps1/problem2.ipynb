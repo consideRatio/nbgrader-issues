{
 "cells": [
  {
   "cell_type": "markdown",
   "metadata": {},
   "source": [
    "## Test output\n",
    "\n",
    "It should not be looking wierd to write Ã¥ Ã¤ Ã¶ and Ã… Ã„ Ã–.\n",
    "\n",
    "## Reproduction\n",
    "\n",
    "> NOTE: I was able to reproduce it only on Windows 10 (it has the issue). On Ubuntu the issue did not occur.\n",
    "\n",
    "#### Step 0\n",
    "Use Windows 10.\n",
    "\n",
    "#### Step 1\n",
    "\n",
    "```bash\n",
    "nbgrader quickstart issue-902\n",
    "cd issue-902\n",
    "jupyter notebook source/header.ipynb\n",
    "```\n",
    "\n",
    "#### Step 2\n",
    "Add swedish letters to the header file, like Ã¥, Ã¤ and Ã¶ and save the header notebook.\n",
    "\n",
    "#### Step 3\n",
    "Use the formgrader generate the student version of ps1, then look at it.\n",
    "\n",
    "## System details for both Win10 and Ubuntu\n",
    "* __`nbgrader --version`__: 0.5.3\n",
    "* __`jupyter --version`__: 4.3.0\n",
    "\n",
    "* __`jupyter nbconvert --version`__: 5.3.1\n",
    "* __`jupyter notebook --version`__: 5.0.0\n",
    "\n",
    "* __`python --version`__: 3.6.2\n",
    "* __`conda --version`__: 4.3.29"
   ]
  },
  {
   "cell_type": "markdown",
   "metadata": {},
   "source": [
    "Before you turn this problem in, make sure everything runs as expected. First, **restart the kernel** (in the menubar, select Kernel$\\rightarrow$Restart) and then **run all cells** (in the menubar, select Cell$\\rightarrow$Run All).\n",
    "\n",
    "Make sure you fill in any place that says `YOUR CODE HERE` or \"YOUR ANSWER HERE\", as well as your name and collaborators below:"
   ]
  },
  {
   "cell_type": "code",
   "execution_count": null,
   "metadata": {},
   "outputs": [],
   "source": [
    "NAME = \"\"\n",
    "COLLABORATORS = \"\""
   ]
  },
  {
   "cell_type": "markdown",
   "metadata": {},
   "source": [
    "---"
   ]
  },
  {
   "cell_type": "markdown",
   "metadata": {},
   "source": [
    "Consider the following piece of code:\n",
    "\n",
    "```python\n",
    "def f(x):\n",
    "    if x == 0 or x == 1:\n",
    "        return x\n",
    "    return f(x - 1) + f(x - 2)\n",
    "```"
   ]
  },
  {
   "cell_type": "markdown",
   "metadata": {},
   "source": [
    "---\n",
    "## Part A (1 point)\n",
    "\n",
    "Describe, in words, what this code does, and how it does it."
   ]
  },
  {
   "cell_type": "markdown",
   "metadata": {
    "deletable": false,
    "nbgrader": {
     "checksum": "6d5a9eb99c3e76354b6e360ce228580a",
     "grade": true,
     "grade_id": "part-a",
     "locked": false,
     "points": 1.0,
     "schema_version": 1,
     "solution": true
    }
   },
   "source": [
    "YOUR ANSWER HERE"
   ]
  },
  {
   "cell_type": "markdown",
   "metadata": {},
   "source": [
    "---\n",
    "## Part B (2 points)\n",
    "\n",
    "For what inputs will this function not behave as expected? What will happen?"
   ]
  },
  {
   "cell_type": "markdown",
   "metadata": {
    "deletable": false,
    "nbgrader": {
     "checksum": "789281f32aa7a8d789bd9f18de9efd00",
     "grade": true,
     "grade_id": "part-b",
     "locked": false,
     "points": 2.0,
     "schema_version": 1,
     "solution": true
    }
   },
   "source": [
    "YOUR ANSWER HERE"
   ]
  }
 ],
 "metadata": {
  "kernelspec": {
   "display_name": "Python",
   "language": "python",
   "name": "python"
  }
 },
 "nbformat": 4,
 "nbformat_minor": 0
}
