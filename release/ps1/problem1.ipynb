{
 "cells": [
  {
   "cell_type": "markdown",
   "metadata": {},
   "source": [
    "## Test output from header.ipynb\n",
    "\n",
    "## Ã¥ Ã¤ Ã¶ and Ã… Ã„ Ã– issue"
   ]
  },
  {
   "cell_type": "markdown",
   "metadata": {},
   "source": [
    "---"
   ]
  },
  {
   "cell_type": "markdown",
   "metadata": {},
   "source": [
    "# Test output from problem1.ipynb\n",
    "\n",
    "## å ä ö and Å Ä Ö works"
   ]
  },
  {
   "cell_type": "markdown",
   "metadata": {},
   "source": [
    "## Reproduction\n",
    "\n",
    "> NOTE: I was able to reproduce it only on Windows 10 (it has the issue). On Ubuntu the issue did not occur.\n",
    "\n",
    "#### Step 0\n",
    "Use Windows 10.\n",
    "\n",
    "#### Step 1\n",
    "\n",
    "```bash\n",
    "nbgrader quickstart issue-902\n",
    "cd issue-902\n",
    "jupyter notebook source/header.ipynb\n",
    "```\n",
    "\n",
    "#### Step 2\n",
    "Add swedish letters to the header file, like å, ä and ö and save the header notebook.\n",
    "\n",
    "#### Step 3\n",
    "Use the formgrader generate the student version of ps1, then look at it.\n",
    "\n",
    "## System details for both Win10 and Ubuntu\n",
    "* __`nbgrader --version`__: 0.5.3\n",
    "* __`jupyter --version`__: 4.3.0\n",
    "\n",
    "* __`jupyter nbconvert --version`__: 5.3.1\n",
    "* __`jupyter notebook --version`__: 5.0.0\n",
    "\n",
    "* __`python --version`__: 3.6.2\n",
    "* __`conda --version`__: 4.3.29"
   ]
  }
 ],
 "metadata": {
  "kernelspec": {
   "display_name": "Python",
   "language": "python",
   "name": "python"
  }
 },
 "nbformat": 4,
 "nbformat_minor": 1
}
