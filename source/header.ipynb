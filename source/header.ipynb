{
 "cells": [
  {
   "cell_type": "markdown",
   "metadata": {},
   "source": [
    "## Reproduction\n",
    "\n",
    "#### Step 1\n",
    "\n",
    "```bash\n",
    "nbgrader quickstart issue-902\n",
    "cd issue-902\n",
    "jupyter notebook source/header.ipynb\n",
    "```\n",
    "\n",
    "#### Step 2\n",
    "Add swedish letters to the header file, like å, ä and ö and save the header notebook.\n",
    "\n",
    "#### Step 3\n",
    "Use the formgrader generate the student version of ps1, then look at it.\n",
    "\n",
    "## System details\n",
    "* __`nbgrader --version`__: 0.5.3\n",
    "* __`jupyter --version`__: 4.3.0\n",
    "\n",
    "* __`jupyter nbconvert --version`__: 5.3.1\n",
    "* __`jupyter notebook --version`__: 5.0.0\n",
    "\n",
    "* __`python --version`__: 3.6.2\n",
    "* __`conda --version`__: 4.3.29"
   ]
  },
  {
   "cell_type": "markdown",
   "metadata": {},
   "source": [
    "Before you turn this problem in, make sure everything runs as expected. First, **restart the kernel** (in the menubar, select Kernel$\\rightarrow$Restart) and then **run all cells** (in the menubar, select Cell$\\rightarrow$Run All).\n",
    "\n",
    "Make sure you fill in any place that says `YOUR CODE HERE` or \"YOUR ANSWER HERE\", as well as your name and collaborators below:"
   ]
  },
  {
   "cell_type": "code",
   "execution_count": null,
   "metadata": {
    "collapsed": true
   },
   "outputs": [],
   "source": [
    "NAME = \"\"\n",
    "COLLABORATORS = \"\""
   ]
  },
  {
   "cell_type": "markdown",
   "metadata": {},
   "source": [
    "---"
   ]
  }
 ],
 "metadata": {
  "kernelspec": {
   "display_name": "Python 3",
   "language": "python",
   "name": "python3"
  },
  "language_info": {
   "codemirror_mode": {
    "name": "ipython",
    "version": 3
   },
   "file_extension": ".py",
   "mimetype": "text/x-python",
   "name": "python",
   "nbconvert_exporter": "python",
   "pygments_lexer": "ipython3",
   "version": "3.6.2"
  }
 },
 "nbformat": 4,
 "nbformat_minor": 1
}
